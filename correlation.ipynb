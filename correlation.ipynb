{
 "cells": [
  {
   "cell_type": "code",
   "execution_count": 14,
   "metadata": {},
   "outputs": [
    {
     "name": "stdout",
     "output_type": "stream",
     "text": [
      "correlation [-0.5872266396155036] 0.00020856770595992292\n",
      "mean,std = (2733.2285714285713, 559.4474869120826)\n",
      "t = 2.032244509317718\n",
      "df = 34\n",
      "confidence of 95% (2541.051635820546, 2925.4055070365966)\n",
      "[[ -32.52857143]\n",
      " [3286.21428571]]\n"
     ]
    },
    {
     "name": "stderr",
     "output_type": "stream",
     "text": [
      "/var/folders/p1/vychbyg51cs0s16tvzh88pk00000gn/T/ipykernel_9531/2390993447.py:23: SettingWithCopyWarning: \n",
      "A value is trying to be set on a copy of a slice from a DataFrame.\n",
      "Try using .loc[row_indexer,col_indexer] = value instead\n",
      "\n",
      "See the caveats in the documentation: https://pandas.pydata.org/pandas-docs/stable/user_guide/indexing.html#returning-a-view-versus-a-copy\n",
      "  date['index']=cmp\n"
     ]
    },
    {
     "data": {
      "image/png": "[encoded data removed]",
      "text/plain": [
       "<Figure size 432x288 with 1 Axes>"
      ]
     },
     "metadata": {
      "needs_background": "light"
     },
     "output_type": "display_data"
    }
   ],
   "source": [
    "import pandas as pd\n",
    "import matplotlib.pyplot as plt\n",
    "import pandas as pd\n",
    "import matplotlib.pyplot as plt\n",
    "import matplotlib.dates as mdates\n",
    "import numpy as np\n",
    "import scipy\n",
    "from sklearn.linear_model import LinearRegression\n",
    "from scipy.stats import pearsonr,t\n",
    "from sklearn import preprocessing\n",
    "\n",
    "df = pd.read_csv('covid_data.csv')\n",
    "\n",
    "cases=df[[\"Date_reported\",\"Country\",\"New_cases\"]]\n",
    "\n",
    "cases=cases.loc[cases['Country']== 'India']\n",
    "\n",
    "date=cases.loc[(cases['Date_reported'] >= '2022-04-26')& (cases['Date_reported'] < '2022-05-31')]\n",
    "\n",
    "\n",
    "cmp=range(0,35)\n",
    "cmp1=range(0,468)\n",
    "date['index']=cmp\n",
    "\n",
    "X1= date.iloc[:,3].values.reshape(-1,1)\n",
    "X= date.iloc[:,0]\n",
    "Y= date.iloc[:,2].values.reshape(-1,1)\n",
    "\n",
    "x=X1.flatten()\n",
    "\n",
    "\n",
    "current_figure = plt.gcf()\n",
    "current_figure.autofmt_xdate()\n",
    "linear_regressor = LinearRegression()  # create object for the class\n",
    "linear_regressor.fit(X1, Y)  # perform linear regression\n",
    "Y_pred = linear_regressor.predict(X1)\n",
    "\n",
    "cor,corp= scipy.stats.pearsonr(x, Y)\n",
    "print('correlation',cor,corp)\n",
    "m = Y.mean() \n",
    "s = Y.std()\n",
    "print(\"mean,std =\",(m,s)) \n",
    "df = len(Y)-1 \n",
    "confidence = 0.95\n",
    "t_crit = np.abs(t.ppf((1-confidence)/2,df))\n",
    "print(\"t =\",t_crit)\n",
    "print(\"df =\",df)\n",
    "print(\"confidence of 95%\",(m-(s*t_crit/np.sqrt(len(x))), m+(s*t_crit/np.sqrt(len(x)))))\n",
    "plt.gca().xaxis.set_major_locator(mdates.DayLocator(interval=10))\n",
    "plt.scatter(X,Y)\n",
    "plt.xlabel(\"Date (YYYY-MM-DD)\")\n",
    "plt.ylabel(\"New cases\")\n",
    "plt.annotate(r'r = -0.58',\n",
    "             xy=(30,Y_pred[20]), \n",
    "             xycoords='data',\n",
    "             xytext=(-30,70),\n",
    "             textcoords='offset points',\n",
    "             fontsize=12,  \n",
    "             \n",
    "            )\n",
    "slope_intercept = np.polyfit(x,Y_pred,1)\n",
    "print(slope_intercept)\n",
    "plt.show()\n",
    "\n"
   ]
  }
 ],
 "metadata": {
  "kernelspec": {
   "display_name": "Python 3.9.13 64-bit",
   "language": "python",
   "name": "python3"
  },
  "language_info": {
   "codemirror_mode": {
    "name": "ipython",
    "version": 3
   },
   "file_extension": ".py",
   "mimetype": "text/x-python",
   "name": "python",
   "nbconvert_exporter": "python",
   "pygments_lexer": "ipython3",
   "version": "3.9.13"
  },
  "orig_nbformat": 4,
  "vscode": {
   "interpreter": {
    "hash": "a665b5d41d17b532ea9890333293a1b812fa0b73c9c25c950b3cedf1bebd0438"
   }
  }
 },
 "nbformat": 4,
 "nbformat_minor": 2
}
