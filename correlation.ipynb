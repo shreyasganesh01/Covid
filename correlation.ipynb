{
 "cells": [
  {
   "cell_type": "code",
   "execution_count": 21,
   "metadata": {},
   "outputs": [
    {
     "name": "stdout",
     "output_type": "stream",
     "text": [
      "correlation [-0.592352264543054] 0.00014120162565199102\n",
      "t = 2.0301079282503425\n",
      "df = 35\n",
      "confidence of 95% (13.985106763170227, 21.01489323682977)\n",
      "[[ -31.67142857]\n",
      " [3276.5       ]]\n"
     ]
    },
    {
     "name": "stderr",
     "output_type": "stream",
     "text": [
      "/var/folders/p1/vychbyg51cs0s16tvzh88pk00000gn/T/ipykernel_64681/1927873357.py:22: SettingWithCopyWarning: \n",
      "A value is trying to be set on a copy of a slice from a DataFrame.\n",
      "Try using .loc[row_indexer,col_indexer] = value instead\n",
      "\n",
      "See the caveats in the documentation: https://pandas.pydata.org/pandas-docs/stable/user_guide/indexing.html#returning-a-view-versus-a-copy\n",
      "  date['index']=cmp\n"
     ]
    },
    {
     "data": {
      "image/png": "[encoded data removed]",
      "text/plain": [
       "<Figure size 432x288 with 1 Axes>"
      ]
     },
     "metadata": {
      "needs_background": "light"
     },
     "output_type": "display_data"
    }
   ],
   "source": [
    "import pandas as pd\n",
    "import matplotlib.pyplot as plt\n",
    "import pandas as pd\n",
    "import matplotlib.pyplot as plt\n",
    "import matplotlib.dates as mdates\n",
    "import numpy as np\n",
    "import scipy\n",
    "from sklearn.linear_model import LinearRegression\n",
    "from scipy.stats import pearsonr,t\n",
    "\n",
    "df = pd.read_csv('covid_data.csv')\n",
    "\n",
    "cases=df[[\"Date_reported\",\"Country\",\"New_cases\"]]\n",
    "\n",
    "cases=cases.loc[cases['Country']== 'India']\n",
    "\n",
    "date=cases.loc[(cases['Date_reported'] > '2022-04-25')& (cases['Date_reported'] < '2022-06-01')]\n",
    "\n",
    "\n",
    "cmp=range(0,36)\n",
    "cmp1=range(0,468)\n",
    "date['index']=cmp\n",
    "\n",
    "X1= date.iloc[:,3].values.reshape(-1,1)\n",
    "X= date.iloc[:,0]\n",
    "Y= date.iloc[:,2].values.reshape(-1,1)\n",
    "\n",
    "x=X1.flatten()\n",
    "\n",
    "\n",
    "current_figure = plt.gcf()\n",
    "current_figure.autofmt_xdate()\n",
    "linear_regressor = LinearRegression()  # create object for the class\n",
    "linear_regressor.fit(X1, Y)  # perform linear regression\n",
    "Y_pred = linear_regressor.predict(X1)\n",
    "\n",
    "cor,corp= scipy.stats.pearsonr(x, Y)\n",
    "print('correlation',cor,corp)\n",
    "m = X1.mean() \n",
    "s = X1.std() \n",
    "df = len(X1)-1 \n",
    "confidence = 0.95\n",
    "t_crit = np.abs(t.ppf((1-confidence)/2,df))\n",
    "print(\"t =\",t_crit)\n",
    "print(\"df =\",df)\n",
    "print(\"confidence of 95%\",(m-s*t_crit/np.sqrt(len(x)), m+s*t_crit/np.sqrt(len(x))))\n",
    "plt.gca().xaxis.set_major_locator(mdates.DayLocator(interval=7))\n",
    "plt.scatter(X,Y)\n",
    "plt.xlabel(\"Date\")\n",
    "plt.ylabel(\"New cases\")\n",
    "slope_intercept = np.polyfit(x,Y_pred,1)\n",
    "print(slope_intercept)\n",
    "plt.show()\n",
    "\n"
   ]
  }
 ],
 "metadata": {
  "kernelspec": {
   "display_name": "Python 3.9.13 64-bit",
   "language": "python",
   "name": "python3"
  },
  "language_info": {
   "codemirror_mode": {
    "name": "ipython",
    "version": 3
   },
   "file_extension": ".py",
   "mimetype": "text/x-python",
   "name": "python",
   "nbconvert_exporter": "python",
   "pygments_lexer": "ipython3",
   "version": "3.9.13"
  },
  "orig_nbformat": 4,
  "vscode": {
   "interpreter": {
    "hash": "b0fa6594d8f4cbf19f97940f81e996739fb7646882a419484c72d19e05852a7e"
   }
  }
 },
 "nbformat": 4,
 "nbformat_minor": 2
}
