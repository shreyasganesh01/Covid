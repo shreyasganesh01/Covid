{
 "cells": [
  {
   "cell_type": "code",
   "execution_count": 46,
   "metadata": {},
   "outputs": [
    {
     "name": "stdout",
     "output_type": "stream",
     "text": [
      "correlation [-0.6971312958682353] 2.3059945459797167e-14\n",
      "mean,std = (90951.51111111112, 108846.96496205062)\n",
      "t = 1.9869786993737677\n",
      "df = 89\n",
      "confidence of 95% (68153.95566605241, 113749.06655616983)\n",
      "[[ -2920.82694983]\n",
      " [220928.31037851]]\n"
     ]
    },
    {
     "name": "stderr",
     "output_type": "stream",
     "text": [
      "/var/folders/p1/vychbyg51cs0s16tvzh88pk00000gn/T/ipykernel_78027/1117267329.py:23: SettingWithCopyWarning: \n",
      "A value is trying to be set on a copy of a slice from a DataFrame.\n",
      "Try using .loc[row_indexer,col_indexer] = value instead\n",
      "\n",
      "See the caveats in the documentation: https://pandas.pydata.org/pandas-docs/stable/user_guide/indexing.html#returning-a-view-versus-a-copy\n",
      "  date['index']=cmp\n"
     ]
    },
    {
     "data": {
      "image/png": "[encoded data removed]",
      "text/plain": [
       "<Figure size 432x288 with 1 Axes>"
      ]
     },
     "metadata": {
      "needs_background": "light"
     },
     "output_type": "display_data"
    }
   ],
   "source": [
    "import pandas as pd\n",
    "import matplotlib.pyplot as plt\n",
    "import pandas as pd\n",
    "import matplotlib.pyplot as plt\n",
    "import matplotlib.dates as mdates\n",
    "import numpy as np\n",
    "import scipy\n",
    "from sklearn.linear_model import LinearRegression\n",
    "from scipy.stats import pearsonr,t\n",
    "from sklearn import preprocessing\n",
    "\n",
    "df = pd.read_csv('covid_data.csv')\n",
    "\n",
    "cases=df[[\"Date_reported\",\"Country\",\"New_cases\"]]\n",
    "\n",
    "cases=cases.loc[cases['Country']== 'India']\n",
    "\n",
    "date=cases.loc[(cases['Date_reported'] >= '2022-01-01')& (cases['Date_reported'] < '2022-04-01')]\n",
    "\n",
    "\n",
    "cmp=range(0,90)\n",
    "cmp1=range(0,468)\n",
    "date['index']=cmp\n",
    "\n",
    "X1= date.iloc[:,3].values.reshape(-1,1)\n",
    "X= date.iloc[:,0]\n",
    "Y= date.iloc[:,2].values.reshape(-1,1)\n",
    "\n",
    "x=X1.flatten()\n",
    "\n",
    "\n",
    "current_figure = plt.gcf()\n",
    "current_figure.autofmt_xdate()\n",
    "linear_regressor = LinearRegression()  # create object for the class\n",
    "linear_regressor.fit(X1, Y)  # perform linear regression\n",
    "Y_pred = linear_regressor.predict(X1)\n",
    "\n",
    "cor,corp= scipy.stats.pearsonr(x, Y)\n",
    "print('correlation',cor,corp)\n",
    "m = Y.mean() \n",
    "s = Y.std()\n",
    "print(\"mean,std =\",(m,s)) \n",
    "df = len(Y)-1 \n",
    "confidence = 0.95\n",
    "t_crit = np.abs(t.ppf((1-confidence)/2,df))\n",
    "print(\"t =\",t_crit)\n",
    "print(\"df =\",df)\n",
    "print(\"confidence of 95%\",(m-(s*t_crit/np.sqrt(len(x))), m+(s*t_crit/np.sqrt(len(x)))))\n",
    "plt.gca().xaxis.set_major_locator(mdates.DayLocator(interval=30))\n",
    "plt.scatter(X,Y)\n",
    "plt.xlabel(\"Date (YYYY-MM-DD)\")\n",
    "plt.ylabel(\"New cases\")\n",
    "plt.annotate(r'r = -0.58',\n",
    "             xy=(89,Y_pred[9]), \n",
    "             xycoords='data',\n",
    "             xytext=(-70,30),\n",
    "             textcoords='offset points',\n",
    "             fontsize=12,  \n",
    "             \n",
    "            )\n",
    "slope_intercept = np.polyfit(x,Y_pred,1)\n",
    "print(slope_intercept)\n",
    "plt.show()\n",
    "\n"
   ]
  }
 ],
 "metadata": {
  "kernelspec": {
   "display_name": "Python 3.9.13 64-bit",
   "language": "python",
   "name": "python3"
  },
  "language_info": {
   "codemirror_mode": {
    "name": "ipython",
    "version": 3
   },
   "file_extension": ".py",
   "mimetype": "text/x-python",
   "name": "python",
   "nbconvert_exporter": "python",
   "pygments_lexer": "ipython3",
   "version": "3.9.13"
  },
  "orig_nbformat": 4,
  "vscode": {
   "interpreter": {
    "hash": "b0fa6594d8f4cbf19f97940f81e996739fb7646882a419484c72d19e05852a7e"
   }
  }
 },
 "nbformat": 4,
 "nbformat_minor": 2
}
