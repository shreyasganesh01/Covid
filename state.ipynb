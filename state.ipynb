{
 "cells": [
  {
   "cell_type": "code",
   "execution_count": 52,
   "metadata": {},
   "outputs": [
    {
     "name": "stdout",
     "output_type": "stream",
     "text": [
      "[[  10184.98248617]\n",
      " [1365111.09950249]]\n"
     ]
    },
    {
     "name": "stderr",
     "output_type": "stream",
     "text": [
      "/var/folders/p1/vychbyg51cs0s16tvzh88pk00000gn/T/ipykernel_43742/2276934849.py:23: SettingWithCopyWarning: \n",
      "A value is trying to be set on a copy of a slice from a DataFrame.\n",
      "Try using .loc[row_indexer,col_indexer] = value instead\n",
      "\n",
      "See the caveats in the documentation: https://pandas.pydata.org/pandas-docs/stable/user_guide/indexing.html#returning-a-view-versus-a-copy\n",
      "  date3['index']=cmp1\n"
     ]
    },
    {
     "data": {
      "image/png": "[encoded data removed]",
      "text/plain": [
       "<Figure size 432x288 with 1 Axes>"
      ]
     },
     "metadata": {
      "needs_background": "light"
     },
     "output_type": "display_data"
    }
   ],
   "source": [
    "import pandas as pd\n",
    "import matplotlib.pyplot as plt\n",
    "import pandas as pd\n",
    "import matplotlib.pyplot as plt\n",
    "import matplotlib.dates as mdates\n",
    "import numpy as np\n",
    "from sklearn.linear_model import LinearRegression\n",
    "from scipy.stats import pearsonr\n",
    "\n",
    "df = pd.read_csv('covid_19_india.csv')\n",
    "\n",
    "cases=df[[\"Date\",\"State\",\"Confirmed\"]]\n",
    "\n",
    "cases=cases.loc[cases['State']== 'Andhra Pradesh']\n",
    "\n",
    "date=cases.loc[(cases['Date'] >= '2020-06-01')& (cases['Date'] < '2020-09-15')]\n",
    "date1=cases.loc[(cases['Date'] >= '2020-09-15')& (cases['Date'] < '2020-12-30')]\n",
    "date2=cases.loc[(cases['Date'] >= '2021-03-01')& (cases['Date'] < '2021-05-07')]\n",
    "date3=cases.loc[(cases['Date'] >= '2021-05-07')& (cases['Date'] < '2021-07-12')]\n",
    "\n",
    "cmp=range(0,106)\n",
    "cmp1=range(0,66)\n",
    "date3['index']=cmp1\n",
    "\n",
    "X1= date3.iloc[:,3].values.reshape(-1,1)\n",
    "X= date3.iloc[:,0]\n",
    "Y= date3.iloc[:,2].values.reshape(-1,1)\n",
    "\n",
    "x=X1.flatten()\n",
    "\n",
    "\n",
    "current_figure = plt.gcf()\n",
    "current_figure.autofmt_xdate()\n",
    "linear_regressor = LinearRegression()  # create object for the class\n",
    "linear_regressor.fit(X1, Y)  # perform linear regression\n",
    "Y_pred = linear_regressor.predict(X1)\n",
    "plt.gca().xaxis.set_major_locator(mdates.DayLocator(interval=30))\n",
    "plt.plot(X,Y,'r-')\n",
    "plt.plot(X1,Y_pred,'b--')\n",
    "plt.plot\n",
    "plt.xlabel(\"Date\")\n",
    "plt.ylabel(\"Cumulatiive cases\")\n",
    "slope_intercept = np.polyfit(x,Y_pred,1)\n",
    "print(slope_intercept)\n",
    "plt.show()\n",
    "\n"
   ]
  }
 ],
 "metadata": {
  "kernelspec": {
   "display_name": "Python 3.9.13 64-bit",
   "language": "python",
   "name": "python3"
  },
  "language_info": {
   "codemirror_mode": {
    "name": "ipython",
    "version": 3
   },
   "file_extension": ".py",
   "mimetype": "text/x-python",
   "name": "python",
   "nbconvert_exporter": "python",
   "pygments_lexer": "ipython3",
   "version": "3.9.13"
  },
  "orig_nbformat": 4,
  "vscode": {
   "interpreter": {
    "hash": "b0fa6594d8f4cbf19f97940f81e996739fb7646882a419484c72d19e05852a7e"
   }
  }
 },
 "nbformat": 4,
 "nbformat_minor": 2
}
